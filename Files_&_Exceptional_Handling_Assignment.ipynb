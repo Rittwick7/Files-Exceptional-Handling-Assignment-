{
  "nbformat": 4,
  "nbformat_minor": 0,
  "metadata": {
    "colab": {
      "provenance": []
    },
    "kernelspec": {
      "name": "python3",
      "display_name": "Python 3"
    },
    "language_info": {
      "name": "python"
    }
  },
  "cells": [
    {
      "cell_type": "markdown",
      "source": [
        "# Files & Exceptional Handling\n"
      ],
      "metadata": {
        "id": "zgGeawh5A5eU"
      }
    },
    {
      "cell_type": "markdown",
      "source": [
        "1. What is the difference between interpreted and compiled languages?\n",
        " - In interpreted languages code is executed directly without a seperate compilation step to convert into machine code, but in compiled languages the code is acctually taken in a compiler then code is transformed into machine code by compiler.\n",
        "\n",
        "2. What is exception handling in Python?\n",
        "  - Exception handling in Python is a way to deal with errors that occur when a program is running. It helps to make code more robust and user-friendly.\n",
        "\n",
        "3. What is the purpose of the finally block in exception handling?\n",
        " - In the time of excecution the code is enter in except block or doesn't enter in except block it doesn't matter, the print statement in finally block will be always print.\n",
        "\n",
        "4. What is logging in Python?\n",
        " - It records the state and flow of the code. It is useful to understanding, monitoring and debugging of code. It shows how the code behaves over time.\n",
        "\n",
        "5. What is the significance of the __del__ method in Python?\n",
        " - The __del__ method is used to release any resources held by an object when that object is deleted.\n",
        "\n",
        "6. What is the difference between import and from ... import in Python?\n",
        " - Generally, we use the import statement when we need to use many attributes from a module, or when the module name is short and easy to remember, but when we only need to use a few attributes from a module, or when the module name is long and hard to remember, we use from statement.\n",
        "\n",
        "7. How can you handle multiple exceptions in Python?\n",
        " - In Python, you can handle multiple exceptions in several ways. Here are some common methods to handle multiple exceptions like, Multiple except block, using a try block.\n",
        "\n",
        "8. What is the purpose of the with statement when handling files in Python?\n",
        " - In handling files, the purpose of the with statement is to ensure that resources are properly managed, particularly for closing files automatically, even if an exception occurs during the operation.\n",
        "\n",
        "9. What is the difference between multithreading and multiprocessing?\n",
        " - In multithreading it happens on one proccesor, threads share same memory space and resouirses within a process but in multiprocessing there are multiple cores/processors, each process has its own memory space and resources which are isolated from other process.\n",
        "\n",
        "10. What are the advantages of using logging in a program?\n",
        " - The advantages of using logging in a program is debugging, monitoring, and understanding application behavior by providing a record of events.\n",
        "\n",
        "11. What is memory management in Python?\n",
        " - Memory management in python is the process of allocating and dealing with memory so that the programs can run efficiently.\n",
        "\n",
        "12. What are the basic steps involved in exception handling in Python?\n",
        " - The basic steps involved in exception handling in python are try, except, else, finally.\n",
        "\n",
        "13. Why is memory management important in Python?\n",
        " - Memory management is important in Python, to understanding how it works can help you write more efficient, scalable, and reliable code.\n",
        "\n",
        "14. What is the role of try and except in exception handling?\n",
        " - In exception handling, the try block contains code that might potentially raise an exception, while the except block handles the exception if one occurs, allowing the program to continue running instead of crashing.\n",
        "\n",
        "15. How does Python's garbage collection system work?\n",
        " - Python's garbage collection system is used to automatically manage memory by reclaiming memory that is no longer in use, helping to avoid memory leaks and optimize the performance.\n",
        "\n",
        "16. What is the purpose of the else block in exception handling?\n",
        " - The else block in Python's exception handling is used to define code that should run only if no exception was raised in the try block.\n",
        "\n",
        "17. What are the common logging levels in Python?\n",
        " -\n",
        "\n",
        "18. What is the difference between os.fork() and multiprocessing in Python?\n",
        " -\n",
        "\n",
        "19. What is the importance of closing a file in Python?\n",
        " - Closing a file is a crucial part of file management in programming, as it ensures the release of system resources, data integrity, and prevents data corruption. It is essential to close files after using them to maintain the stability and reliability of any application that involves file handling.\n",
        "\n",
        "20. What is the difference between file.read() and file.readline() in Python?\n",
        " - In Python, the file.read() method is used to read a specified number of characters from a file or input stream, while the file.readline() method is used to read a single line from a file.\n",
        "\n",
        "21. What is the logging module in Python used for?\n",
        " - The logging module in Python is used for tracking events that happen during the execution of a program.\n",
        "\n",
        "22. What is the os module in Python used for in file handling?\n",
        " - In file handling, the os module is commonly used to perform operations such as file and directory manipulation, checking file existence, and getting file properties.\n",
        "\n",
        "23. What are the challenges associated with memory management in Python?\n",
        " - Memory management in Python comes with a few challenges like language handles objects, garbage collection, and memory allocation.\n",
        "\n",
        "24.  How do you raise an exception manually in Python?\n",
        " - In Python, we can raise an exception manually using the raise keyword. This allows to trigger an exception at any point in the code, either by raising a predefined exception or by defining a custom exception.\n",
        "\n",
        "25. Why is it important to use multithreading in certain applications?\n",
        " -\n",
        "\n",
        ""
      ],
      "metadata": {
        "id": "c0GZ0npkBCi0"
      }
    },
    {
      "cell_type": "markdown",
      "source": [
        "# Practical"
      ],
      "metadata": {
        "id": "l3CdwQWUDIgz"
      }
    },
    {
      "cell_type": "code",
      "source": [
        "# 1.  How can you open a file for writing in Python and write a string to it?\n",
        "file=open(\"file.txt\",\"w\")\n",
        "file.write(\"My name is Rittwick Jash\")\n",
        "file.close()"
      ],
      "metadata": {
        "id": "bpbwQqKnAi4_"
      },
      "execution_count": 1,
      "outputs": []
    },
    {
      "cell_type": "code",
      "source": [
        "# 2. Write a Python program to read the contents of a file and print each line.\n",
        "file=open(\"file.txt\",\"r\")\n",
        "for line in file:\n",
        "        print(line, end='')"
      ],
      "metadata": {
        "colab": {
          "base_uri": "https://localhost:8080/"
        },
        "id": "JrJvHzkBJWtz",
        "outputId": "6443052a-7f6d-4f42-ccd4-d4f8d51f07b7"
      },
      "execution_count": 2,
      "outputs": [
        {
          "output_type": "stream",
          "name": "stdout",
          "text": [
            "My name is Rittwick Jash"
          ]
        }
      ]
    },
    {
      "cell_type": "code",
      "source": [
        "# 3. How would you handle a case where the file doesn't exist while trying to open it for reading?\n",
        "try:\n",
        "  file=open('example.txt', 'r')  # Attempt to open the file in read mode\n",
        "  for line in file:\n",
        "    print(line, end='')\n",
        "except FileNotFoundError:\n",
        "  print(\"The file 'example.txt' does not exist.\")    # Handle the case where the file doesn't exist"
      ],
      "metadata": {
        "colab": {
          "base_uri": "https://localhost:8080/"
        },
        "id": "aaEy-IdILO4L",
        "outputId": "53830c58-32ad-4364-e7a3-5281cd950b00"
      },
      "execution_count": 6,
      "outputs": [
        {
          "output_type": "stream",
          "name": "stdout",
          "text": [
            "The file 'example.txt' does not exist.\n"
          ]
        }
      ]
    },
    {
      "cell_type": "code",
      "source": [
        "# 4. Write a Python script that reads from one file and writes its content to another file.\n",
        "file1=open(\"file.txt\",\"r\")\n",
        "file2=open(\"file2.txt\",\"w\")\n",
        "for line in file1:\n",
        "    file2.write(line)\n",
        "file1.close()\n",
        "file2.close()"
      ],
      "metadata": {
        "id": "vIYX8DsHL0az"
      },
      "execution_count": 26,
      "outputs": []
    },
    {
      "cell_type": "code",
      "source": [
        "# 5. How would you catch and handle division by zero error in Python?\n",
        "try:\n",
        "  numerator = 10\n",
        "  denominator = 0\n",
        "  result = numerator / denominator\n",
        "  print(\"Result:\", result)\n",
        "except ZeroDivisionError:\n",
        "  print(\"Error: Division by zero is not allowed.\")\n"
      ],
      "metadata": {
        "colab": {
          "base_uri": "https://localhost:8080/"
        },
        "id": "_F6ApT0OObPR",
        "outputId": "79664337-7237-4699-b649-2d41ce1c7a44"
      },
      "execution_count": 27,
      "outputs": [
        {
          "output_type": "stream",
          "name": "stdout",
          "text": [
            "Error: Division by zero is not allowed.\n"
          ]
        }
      ]
    },
    {
      "cell_type": "code",
      "source": [
        "# 6. Write a Python program that logs an error message to a log file when a division by zero exception occurs.\n",
        "import logging\n",
        "logging.basicConfig(filename='error_log.txt', level=logging.ERROR, format='%(asctime)s - %(levelname)s - %(message)s')\n",
        "\n",
        "try:\n",
        "    numerator = 10\n",
        "    denominator = 0\n",
        "    result = numerator / denominator\n",
        "    print(\"Result:\", result)\n",
        "except ZeroDivisionError as e:\n",
        "    logging.error(\"Error: Division by zero occurred. Details: %s\", e)\n",
        "    print(\"Error: Division by zero is not allowed.\")\n"
      ],
      "metadata": {
        "colab": {
          "base_uri": "https://localhost:8080/"
        },
        "id": "xlU4y-LLSG36",
        "outputId": "8285a090-f5a5-4a1b-ccd5-5a931da3269d"
      },
      "execution_count": 28,
      "outputs": [
        {
          "output_type": "stream",
          "name": "stderr",
          "text": [
            "ERROR:root:Error: Division by zero occurred. Details: division by zero\n"
          ]
        },
        {
          "output_type": "stream",
          "name": "stdout",
          "text": [
            "Error: Division by zero is not allowed.\n"
          ]
        }
      ]
    },
    {
      "cell_type": "code",
      "source": [
        "# 7. How do you log information at different levels (INFO, ERROR, WARNING) in Python using the logging module?\n",
        "import logging\n",
        "logging.basicConfig(level=logging.INFO)\n",
        "logging.info(\"This is an info message.\")\n",
        "logging.warning(\"This is a warning message.\")\n",
        "logging.error(\"This is an error message.\")"
      ],
      "metadata": {
        "colab": {
          "base_uri": "https://localhost:8080/"
        },
        "id": "LRmKbvFRS__b",
        "outputId": "8f225059-ee4d-4598-81aa-c925f5ed41e4"
      },
      "execution_count": 31,
      "outputs": [
        {
          "output_type": "stream",
          "name": "stderr",
          "text": [
            "WARNING:root:This is a warning message.\n",
            "ERROR:root:This is an error message.\n"
          ]
        }
      ]
    },
    {
      "cell_type": "code",
      "source": [
        "# 8. Write a program to handle a file opening error using exception handling.\n",
        "try:\n",
        "    with open('example.txt', 'r') as file:   # Try to open the file in read mode\n",
        "        content = file.read()    # Read the contents of the file\n",
        "        print(content)\n",
        "\n",
        "except FileNotFoundError:\n",
        "    print(\"Error: The file 'example.txt' does not exist.\")\n",
        "\n",
        "except IOError as e:\n",
        "    print(f\"Error: An IO error occurred. Details: {e}\")\n",
        "\n",
        "except Exception as e:\n",
        "    print(f\"An unexpected error occurred: {e}\")\n"
      ],
      "metadata": {
        "colab": {
          "base_uri": "https://localhost:8080/"
        },
        "id": "6IdTkdmATZnD",
        "outputId": "54e1770a-ee3d-45e2-ec5e-d31a3821388d"
      },
      "execution_count": 32,
      "outputs": [
        {
          "output_type": "stream",
          "name": "stdout",
          "text": [
            "Error: The file 'example.txt' does not exist.\n"
          ]
        }
      ]
    },
    {
      "cell_type": "code",
      "source": [
        "# 9. How can you read a file line by line and store its content in a list in Python?\n",
        "file = open('file.txt', 'r')    # Open the file in read mode\n",
        "lines = file.readlines()    # Read all lines and store them in a list\n",
        "print(lines)"
      ],
      "metadata": {
        "colab": {
          "base_uri": "https://localhost:8080/"
        },
        "id": "mqLg-Q3dURez",
        "outputId": "da0cbb95-a1a1-470c-beb6-0c946a9dc1ab"
      },
      "execution_count": 34,
      "outputs": [
        {
          "output_type": "stream",
          "name": "stdout",
          "text": [
            "['My name is Rittwick Jash']\n"
          ]
        }
      ]
    },
    {
      "cell_type": "code",
      "source": [
        "# 10. How can you append data to an existing file in Python.\n",
        "file = open(\"file.txt\",\"a\")\n",
        "file.write(\"I am 22 years old.\")\n",
        "file.close()"
      ],
      "metadata": {
        "id": "JQO5eM97Uuyq"
      },
      "execution_count": 35,
      "outputs": []
    },
    {
      "cell_type": "code",
      "source": [
        "# 11. Write a Python program that uses a try-except block to handle an error when attempting to access a dictionary key that doesn't exist.\n",
        "my_dict = {'a': 1, 'b': 2, 'c': 3}\n",
        "try:\n",
        "    value = my_dict['d']\n",
        "    print(value)\n",
        "except KeyError:\n",
        "    print(\"Error: Key 'd' does not exist in the dictionary.\")"
      ],
      "metadata": {
        "colab": {
          "base_uri": "https://localhost:8080/"
        },
        "outputId": "f99768fd-ddf3-410d-f33a-caf2534e7d61",
        "id": "lRluSZ2IVfcZ"
      },
      "execution_count": 37,
      "outputs": [
        {
          "output_type": "stream",
          "name": "stdout",
          "text": [
            "Error: Key 'd' does not exist in the dictionary.\n"
          ]
        }
      ]
    },
    {
      "cell_type": "code",
      "source": [
        "# 12. Write a program that demonstrates using multiple except blocks to handle different types of exceptions.\n",
        "try:\n",
        "    num1 = int(input(\"Enter the first number: \"))\n",
        "    num2 = int(input(\"Enter the second number: \"))\n",
        "\n",
        "    result = num1 / num2\n",
        "    print(f\"Division result: {result}\")\n",
        "\n",
        "    my_list = [10, 20, 30]\n",
        "    print(my_list[5])  # This will raise an IndexError\n",
        "\n",
        "except ZeroDivisionError:\n",
        "    print(\"Error: Division by zero is not allowed.\")\n",
        "\n",
        "except ValueError:\n",
        "    print(\"Error: Invalid input. Please enter valid integers.\")\n",
        "\n",
        "except IndexError:\n",
        "    print(\"Error: List index out of range.\")\n",
        "\n",
        "except Exception as e:\n",
        "    print(f\"An unexpected error occurred: {e}\")"
      ],
      "metadata": {
        "colab": {
          "base_uri": "https://localhost:8080/"
        },
        "id": "JwhMyy7SVjZY",
        "outputId": "cc50eeb9-c0f9-4d4e-9647-6a336adc32e5"
      },
      "execution_count": 39,
      "outputs": [
        {
          "output_type": "stream",
          "name": "stdout",
          "text": [
            "Enter the first number: 45\n",
            "Enter the second number: 0\n",
            "Error: Division by zero is not allowed.\n"
          ]
        }
      ]
    },
    {
      "cell_type": "code",
      "source": [
        "# 13. How would you check if a file exists before attempting to read it in Python?\n",
        "import os\n",
        "filename = 'example.txt'\n",
        "if os.path.exists(filename):\n",
        "    with open(filename, 'r') as file:\n",
        "        content = file.read()\n",
        "        print(content)\n",
        "else:\n",
        "    print(f\"Error: The file '{filename}' does not exist.\")"
      ],
      "metadata": {
        "colab": {
          "base_uri": "https://localhost:8080/"
        },
        "id": "8YlXc5pdhCS6",
        "outputId": "7ef72238-5dd3-4656-aa04-98d1835808dd"
      },
      "execution_count": 40,
      "outputs": [
        {
          "output_type": "stream",
          "name": "stdout",
          "text": [
            "Error: The file 'example.txt' does not exist.\n"
          ]
        }
      ]
    },
    {
      "cell_type": "code",
      "source": [
        "# 14. Write a program that uses the logging module to log both informational and error messages.\n",
        "import logging\n",
        "\n",
        "# Configure logging to write to a log file with appropriate level and format\n",
        "logging.basicConfig(\n",
        "    filename='app.log',\n",
        "    level=logging.DEBUG,\n",
        "    format='%(asctime)s - %(levelname)s - %(message)s'\n",
        ")\n",
        "\n",
        "# Example of an informational log\n",
        "logging.info(\"This is an informational message.\")\n",
        "\n",
        "# Example of an error log\n",
        "try:\n",
        "    result = 10 / 0\n",
        "except ZeroDivisionError as e:\n",
        "    logging.error(f\"Error occurred: {e}\")\n",
        "logging.info(\"Program finished executing.\")"
      ],
      "metadata": {
        "colab": {
          "base_uri": "https://localhost:8080/"
        },
        "id": "5B2uoGP3htXc",
        "outputId": "97530cfc-3d93-49ec-a3af-81243012e0af"
      },
      "execution_count": 42,
      "outputs": [
        {
          "output_type": "stream",
          "name": "stderr",
          "text": [
            "ERROR:root:Error occurred: division by zero\n"
          ]
        }
      ]
    },
    {
      "cell_type": "code",
      "source": [
        "# 15. Write a Python program that prints the content of a file and handles the case when the file is empty.\n",
        "file1 = open(\"file1.txt\", \"w\")\n",
        "file1.close()\n",
        "file1=open(\"file1.txt\",\"r\")\n",
        "try:\n",
        "    content = file1.read()\n",
        "    if content:\n",
        "        print(content)\n",
        "    else:\n",
        "        print(\"The file is empty.\")\n",
        "except FileNotFoundError:\n",
        "    print()"
      ],
      "metadata": {
        "colab": {
          "base_uri": "https://localhost:8080/"
        },
        "id": "zfwo8QpSh34k",
        "outputId": "656c29c4-4ee2-46e2-ad87-252022b6c48a"
      },
      "execution_count": 58,
      "outputs": [
        {
          "output_type": "stream",
          "name": "stdout",
          "text": [
            "The file is empty.\n"
          ]
        }
      ]
    },
    {
      "cell_type": "code",
      "source": [
        "# 16. Demonstrate how to use memory profiling to check the memory usage of a small program.\n",
        "!pip install memory_profiler\n"
      ],
      "metadata": {
        "colab": {
          "base_uri": "https://localhost:8080/"
        },
        "id": "BKSE4TfPiVoG",
        "outputId": "8bf1dd17-135c-46d6-eeed-3ad3908a33a2"
      },
      "execution_count": 70,
      "outputs": [
        {
          "output_type": "stream",
          "name": "stdout",
          "text": [
            "Requirement already satisfied: memory_profiler in /usr/local/lib/python3.11/dist-packages (0.61.0)\n",
            "Requirement already satisfied: psutil in /usr/local/lib/python3.11/dist-packages (from memory_profiler) (5.9.5)\n"
          ]
        }
      ]
    },
    {
      "cell_type": "code",
      "source": [
        "# 17. Write a Python program to create and write a list of numbers to a file, one number per line.\n",
        "file = open(\"numbers.txt\", \"w\")\n",
        "numbers = [1, 2, 3, 4, 5]\n",
        "for num in numbers:\n",
        "    file.write(str(num) + \"\\n\")\n",
        "file.close()"
      ],
      "metadata": {
        "id": "v8WINiAIj4YB"
      },
      "execution_count": 71,
      "outputs": []
    },
    {
      "cell_type": "code",
      "source": [
        "# 18. How would you implement a basic logging setup that logs to a file with rotation after 1MB?\n",
        "import logging\n",
        "from logging.handlers import RotatingFileHandler\n",
        "\n",
        "logger = logging.getLogger('my_logger')\n",
        "\n",
        "logger.setLevel(logging.DEBUG)\n",
        "\n",
        "handler = RotatingFileHandler('app.log', maxBytes=1*1024*1024, backupCount=3)\n",
        "\n",
        "formatter = logging.Formatter('%(asctime)s - %(levelname)s - %(message)s')\n",
        "handler.setFormatter(formatter)\n",
        "\n",
        "logger.addHandler(handler)\n",
        "\n",
        "logger.debug(\"This is a debug message\")\n",
        "logger.info(\"This is an info message\")\n",
        "logger.warning(\"This is a warning message\")\n",
        "logger.error(\"This is an error message\")\n",
        "logger.critical(\"This is a critical message\")"
      ],
      "metadata": {
        "colab": {
          "base_uri": "https://localhost:8080/"
        },
        "id": "XiMN2R07lQ3L",
        "outputId": "741d9f2e-2fd0-4ad5-9232-cd74da817fe7"
      },
      "execution_count": 72,
      "outputs": [
        {
          "output_type": "stream",
          "name": "stderr",
          "text": [
            "DEBUG:my_logger:This is a debug message\n",
            "INFO:my_logger:This is an info message\n",
            "WARNING:my_logger:This is a warning message\n",
            "ERROR:my_logger:This is an error message\n",
            "CRITICAL:my_logger:This is a critical message\n"
          ]
        }
      ]
    },
    {
      "cell_type": "code",
      "source": [
        "# 19. Write a program that handles both IndexError and KeyError using a try-except block.\n",
        "def handle_errors():\n",
        "    my_list = [10, 20, 30]\n",
        "    my_dict = {'a': 1, 'b': 2, 'c': 3}\n",
        "\n",
        "    try:\n",
        "        print(my_list[5])\n",
        "    except IndexError as e:\n",
        "        print(f\"IndexError occurred: {e}\")\n",
        "\n",
        "    try:\n",
        "        print(my_dict['d'])\n",
        "    except KeyError as e:\n",
        "        print(f\"KeyError occurred: {e}\")\n",
        "handle_errors()"
      ],
      "metadata": {
        "colab": {
          "base_uri": "https://localhost:8080/"
        },
        "id": "aoIUoltxmbRL",
        "outputId": "8153740e-1ff7-4ea3-d7e1-95512a2f85c0"
      },
      "execution_count": 76,
      "outputs": [
        {
          "output_type": "stream",
          "name": "stdout",
          "text": [
            "IndexError occurred: list index out of range\n",
            "KeyError occurred: 'd'\n"
          ]
        }
      ]
    },
    {
      "cell_type": "code",
      "source": [
        "# 20. How would you open a file and read its contents using a context manager in Python?\n",
        "with open('file.txt', 'r') as file:\n",
        "    content = file.read()\n",
        "    print(content)"
      ],
      "metadata": {
        "colab": {
          "base_uri": "https://localhost:8080/"
        },
        "id": "u_IJqfchnfcM",
        "outputId": "274583a8-c3e7-489d-e5d4-70e3425bf3aa"
      },
      "execution_count": 79,
      "outputs": [
        {
          "output_type": "stream",
          "name": "stdout",
          "text": [
            "My name is Rittwick JashI am 22 years old.\n"
          ]
        }
      ]
    },
    {
      "cell_type": "code",
      "source": [
        "# 21. Write a Python program that reads a file and prints the number of occurrences of a specific word.\n",
        "def count_word_occurrences(filename, target_word):\n",
        "    try:\n",
        "\n",
        "        with open(\"file.txt\", 'r') as file:\n",
        "            content = file.read()  # Read the entire content of the file\n",
        "\n",
        "        # Count the occurrences of the target word\n",
        "        word_count = content.lower().split().count(target_word.lower())\n",
        "\n",
        "        print(f\"The word '{target_word}' appears {word_count} times in the file.\")\n",
        "\n",
        "    except FileNotFoundError:\n",
        "        print(f\"The file '{file}' does not exist.\")\n",
        "\n",
        "filename = 'file.txt'\n",
        "target_word = 'Rittwick'\n",
        "count_word_occurrences(file, target_word)"
      ],
      "metadata": {
        "colab": {
          "base_uri": "https://localhost:8080/"
        },
        "id": "PRgkn30zoJyL",
        "outputId": "2b354470-28bf-4fc4-f2ee-23aa3a0bf98d"
      },
      "execution_count": 83,
      "outputs": [
        {
          "output_type": "stream",
          "name": "stdout",
          "text": [
            "The word 'Rittwick' appears 1 times in the file.\n"
          ]
        }
      ]
    },
    {
      "cell_type": "code",
      "source": [
        "# 22. How can you check if a file is empty before attempting to read its contents?\n",
        "import os\n",
        "\n",
        "def read_file_if_not_empty(filename):\n",
        "\n",
        "    if os.path.exists(filename) and os.path.getsize(filename) > 0:\n",
        "        with open(filename, 'r') as file:\n",
        "            content = file.read()\n",
        "            print(\"File content:\")\n",
        "            print(content)\n",
        "    else:\n",
        "        print(f\"The file '{filename}' is empty or does not exist.\")\n",
        "\n",
        "filename = 'file.txt'\n",
        "read_file_if_not_empty(\"file.txt\")\n",
        "print(\"File content:\")\n",
        "print(content)\n",
        "\n",
        "filename = 'file.txt'\n",
        "read_file_if_not_empty(\"file.txt\")"
      ],
      "metadata": {
        "colab": {
          "base_uri": "https://localhost:8080/"
        },
        "id": "g74_YD0joxLP",
        "outputId": "b9a5b2eb-fcb4-4414-e515-5aa67dc01690"
      },
      "execution_count": 90,
      "outputs": [
        {
          "output_type": "stream",
          "name": "stdout",
          "text": [
            "File content:\n",
            "My name is Rittwick JashI am 22 years old.\n",
            "File content:\n",
            "My name is Rittwick JashI am 22 years old.\n",
            "File content:\n",
            "My name is Rittwick JashI am 22 years old.\n"
          ]
        }
      ]
    },
    {
      "cell_type": "code",
      "source": [
        "# 23. Write a Python program that writes to a log file when an error occurs during file handling.\n",
        "import logging\n",
        "\n",
        "logging.basicConfig(\n",
        "    filename='file_handling.log',\n",
        "    level=logging.ERROR,\n",
        "    format='%(asctime)s - %(levelname)s - %(message)s'\n",
        ")\n",
        "\n",
        "def read_file(filename):\n",
        "    try:\n",
        "\n",
        "        with open(\"file.txt\", 'r') as file:\n",
        "            content = file.read()\n",
        "            print(content)\n",
        "\n",
        "    except FileNotFoundError as e:\n",
        "\n",
        "        logging.error(f\"FileNotFoundError: {e} - File '{filename}' does not exist.\")\n",
        "        print(f\"Error: {e}. Please check the file path.\")\n",
        "\n",
        "    except IOError as e:\n",
        "\n",
        "        logging.error(f\"IOError: {e} - Error while reading the file '{filename}'.\")\n",
        "        print(f\"Error: {e}. There was a problem with file I/O.\")\n",
        "\n",
        "    except Exception as e:\n",
        "\n",
        "        logging.error(f\"Unexpected Error: {e} - An error occurred while handling the file '{filename}'.\")\n",
        "        print(f\"Unexpected error: {e}\")\n",
        "\n",
        "filename = 'file.txt'\n",
        "read_file(filename)"
      ],
      "metadata": {
        "colab": {
          "base_uri": "https://localhost:8080/"
        },
        "id": "jdWyptQCqPSi",
        "outputId": "37f99401-8e42-4a14-dd54-2de506906884"
      },
      "execution_count": 91,
      "outputs": [
        {
          "output_type": "stream",
          "name": "stdout",
          "text": [
            "My name is Rittwick JashI am 22 years old.\n"
          ]
        }
      ]
    },
    {
      "cell_type": "markdown",
      "source": [
        "                                                              **The End**"
      ],
      "metadata": {
        "id": "kiy3B2zlrbep"
      }
    }
  ]
}